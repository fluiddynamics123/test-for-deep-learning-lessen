{
  "nbformat": 4,
  "nbformat_minor": 0,
  "metadata": {
    "colab": {
      "name": "Untitled1.ipynb",
      "provenance": [],
      "collapsed_sections": []
    },
    "kernelspec": {
      "name": "python3",
      "display_name": "Python 3"
    },
    "language_info": {
      "name": "python"
    }
  },
  "cells": [
    {
      "cell_type": "code",
      "source": [
        "import random"
      ],
      "metadata": {
        "id": "nQjvAaTaI8dx"
      },
      "execution_count": 1,
      "outputs": []
    },
    {
      "cell_type": "code",
      "source": [
        "def call_name_power(a):\n",
        "  print(a)\n",
        "  if a == 0:\n",
        "    type = \"fire\"\n",
        "    HP = 150\n",
        "    SPEAD = 120\n",
        "  elif a == 1:\n",
        "    type = \"water\"\n",
        "    HP = 130\n",
        "    SPEAD = 130\n",
        "  else:\n",
        "    type = \"leaf\"\n",
        "    HP = 180\n",
        "    SPEAD = 80\n",
        "  return type,HP,SPEAD"
      ],
      "metadata": {
        "id": "Oj0y8JadEg_2"
      },
      "execution_count": 3,
      "outputs": []
    },
    {
      "cell_type": "code",
      "source": [
        "def call_relation(self,opp):\n",
        "  if self == \"leaf\":\n",
        "    if opp == \"fire\":\n",
        "      omega_s = 0.8\n",
        "      omega_opp = 1.2\n",
        "    elif opp == \"water\":\n",
        "      omega_s = 1.2\n",
        "      omega_opp = 0.8\n",
        "    else:\n",
        "      pass\n",
        "  elif self == \"water\":\n",
        "    if opp == \"fire\":\n",
        "      omega_s = 0.8\n",
        "      omega_opp = 1.2\n",
        "    elif opp == \"leaf\":\n",
        "      omega_s = 1.2\n",
        "      omega_opp = 0.8\n",
        "    else:\n",
        "      pass\n",
        "  else:\n",
        "    if opp == \"water\":\n",
        "      omega_s = 1.2\n",
        "      omega_opp = 0.8\n",
        "    elif opp == \"leaf\":\n",
        "      omega_s = 0.8\n",
        "      omega_opp = 1.2 \n",
        "    else:\n",
        "      pass\n",
        "  return omega_s,omega_opp   "
      ],
      "metadata": {
        "id": "sCn3Jjf6QQrV"
      },
      "execution_count": 8,
      "outputs": []
    },
    {
      "cell_type": "code",
      "source": [
        "while True:\n",
        "  which_pokemon = int(input(\"which pokemon do you use? 0:fire, 1:water, 2;leaf\"))\n",
        "  if which_pokemon <= 2:\n",
        "    break\n",
        "  else:\n",
        "    print(\"Chose the number from 0 to 2!!\")\n",
        "print(\"you chose\" + str(which_pokemon))"
      ],
      "metadata": {
        "colab": {
          "base_uri": "https://localhost:8080/"
        },
        "id": "bsk8TCy2Cj6n",
        "outputId": "61658bda-109d-478c-df8c-51de3aafc90d"
      },
      "execution_count": 2,
      "outputs": [
        {
          "output_type": "stream",
          "name": "stdout",
          "text": [
            "which pokemon do you use? 0:fire, 1:water, 2;leaf2\n",
            "you chose2\n"
          ]
        }
      ]
    },
    {
      "cell_type": "code",
      "source": [
        "type_self,HP_self,spead_self = call_name_power(which_pokemon)\n",
        "print (\"type is ...\" + type_self)\n",
        "print (\"HP is ...\" + str(HP_self))\n",
        "print (\"SPEED is ...\" + str(spead_self))"
      ],
      "metadata": {
        "colab": {
          "base_uri": "https://localhost:8080/"
        },
        "id": "QE6-q-rcJ5L1",
        "outputId": "c51fade5-4173-4835-caa8-7d5088d1b41d"
      },
      "execution_count": 14,
      "outputs": [
        {
          "output_type": "stream",
          "name": "stdout",
          "text": [
            "2\n",
            "type is ...leaf\n",
            "HP is ...180\n",
            "SPEED is ...80\n"
          ]
        }
      ]
    },
    {
      "cell_type": "code",
      "source": [
        "opponent_pokemon = random.randint(0,2)\n",
        "type_opp,HP_opp,spead_opp = call_name_power(opponent_pokemon)\n",
        "print (\"type is ...\" + type_opp)\n",
        "print (\"HP is ...\" + str(HP_opp))\n",
        "print (\"SPEED is ...\" + str(spead_opp))"
      ],
      "metadata": {
        "colab": {
          "base_uri": "https://localhost:8080/"
        },
        "id": "3ntkfvNbH6HB",
        "outputId": "a9e94ecb-69c7-43cd-ff2d-cfe909ce0c96"
      },
      "execution_count": 13,
      "outputs": [
        {
          "output_type": "stream",
          "name": "stdout",
          "text": [
            "1\n",
            "type is ...water\n",
            "HP is ...130\n",
            "SPEED is ...130\n"
          ]
        }
      ]
    },
    {
      "cell_type": "code",
      "source": [
        "print(\"Battle start\")\n",
        "omega_self = 1.0\n",
        "omega_opp = 1.0\n",
        "if type_self != type_opp:\n",
        "  omega_self,omega_opp = call_relation(type_self,type_opp) #相性による重み係数の呼び出し"
      ],
      "metadata": {
        "colab": {
          "base_uri": "https://localhost:8080/"
        },
        "id": "NC_DfNJSNGmY",
        "outputId": "e588eeb1-b1fb-421f-82d2-dddbe9c075f0"
      },
      "execution_count": 15,
      "outputs": [
        {
          "output_type": "stream",
          "name": "stdout",
          "text": [
            "Battle start\n"
          ]
        }
      ]
    },
    {
      "cell_type": "code",
      "execution_count": 53,
      "metadata": {},
      "outputs": [],
      "source": [
       "level_self = random.randint(1,50) #自分、相手のポケモンのレベルはランダムにしてます\n",
       "level_opp = random.randint(1,50)"
      ]
     },
     {
      "cell_type": "code",
      "execution_count": 54,
      "metadata": {},
      "outputs": [],
      "source": [
       "import math\n",
       "\n",
       "HP_self = int(math.sqrt(level_self)*HP_self) #HPは平方根を乗する\n",
       "spead_self = int(math.log(math.e + level_self -1)*spead_self) #speedはln(e + level -1)を乗する\n",
       "HP_opp = int(math.sqrt(level_opp)*HP_opp)\n",
       "spead_opp = int(math.log(math.e + level_opp -1)*spead_opp)"
      ]
     },
     {
      "cell_type": "code",
      "execution_count": 55,
      "metadata": {
       "colab": {
        "base_uri": "https://localhost:8080/"
       },
       "id": "l3zN8EHUYs6R",
       "outputId": "a20d2855-0712-4157-8d5f-6e909a5b4313"
      },
      "outputs": [
       {
        "name": "stdout",
        "output_type": "stream",
        "text": [
         "Your pokemon's type / level / HP / speed...\n",
         "      water / 40 / 822 / 485\n",
         "opponent pokemon's type / level / HP / speed...\n",
         "      water / 8 / 367 / 295\n"
        ]
       }
      ],
      "source": [
       "print(\"Your pokemon's type / level / HP / speed...\")\n",
       "print(\"      \" + type_self + \" / \" + str(level_self) + \" / \" + str(HP_self) + \" / \" + str(spead_self) )\n",
       "print(\"opponent pokemon's type / level / HP / speed...\")\n",
       "print(\"      \" + type_opp + \" / \" + str(level_opp) + \" / \" + str(HP_opp) + \" / \" + str(spead_opp) )"
      ]
     },
     {
      "cell_type": "code",
      "execution_count": 56,
      "metadata": {
       "colab": {
        "base_uri": "https://localhost:8080/"
       },
       "id": "TzRHVxR5XzVG",
       "outputId": "34e80c60-f51f-4231-e5a7-8f4d107b1841"
      },
      "outputs": [
       {
        "name": "stdout",
        "output_type": "stream",
        "text": [
         "opponent HP is...342.0\n",
         "your HP is...797.0\n",
         "opponent HP is...317.0\n",
         "your HP is...772.0\n",
         "opponent HP is...292.0\n",
         "your HP is...747.0\n",
         "opponent HP is...267.0\n",
         "your HP is...722.0\n",
         "opponent HP is...242.0\n",
         "your HP is...697.0\n",
         "opponent HP is...217.0\n",
         "your HP is...672.0\n",
         "opponent HP is...192.0\n",
         "your HP is...647.0\n",
         "opponent HP is...167.0\n",
         "your HP is...622.0\n",
         "opponent HP is...142.0\n",
         "your HP is...597.0\n",
         "opponent HP is...117.0\n",
         "your HP is...572.0\n",
         "opponent HP is...92.0\n",
         "your HP is...547.0\n",
         "opponent HP is...67.0\n",
         "your HP is...522.0\n",
         "opponent HP is...42.0\n",
         "your HP is...497.0\n",
         "opponent HP is...17.0\n",
         "your HP is...472.0\n",
         "opponent HP is...-8.0\n",
         "your HP is...447.0\n"
        ]
       }
      ],
      "source": [
       "while HP_self > 0 and HP_opp > 0:\n",
       "  if spead_self >= spead_opp:\n",
       "    print(\"Your Attack\")\n",
       "    HP_opp -= 25.0*omega_self\n",
       "    print(\"opponent HP is...\" + str(HP_opp))\n",
       "    HP_self -= 25.0*omega_opp\n",
       "    print(\"your HP is...\" + str(HP_self))\n",
       "  elif spead_self < spead_opp:\n",
       "    print(\"Opponent's Attack\")\n",
       "    HP_self -= 25.0*omega_opp\n",
       "    print(\"your HP is...\" + str(HP_self))\n",
       "    HP_opp -= 25.0*omega_self\n",
       "    print(\"opponent HP is...\" + str(HP_opp))\n",
       "  else:\n",
       "    pass"
      ]
     },
     {
      "cell_type": "markdown",
      "metadata": {
       "id": "bYuV0aYSG4tP"
      },
      "source": []
     }
    ],
    "metadata": {
     "colab": {
      "collapsed_sections": [],
      "name": "Untitled1.ipynb",
      "provenance": []
     },
     "kernelspec": {
      "display_name": "Python 3 (ipykernel)",
      "language": "python",
      "name": "python3"
     },
     "language_info": {
      "codemirror_mode": {
       "name": "ipython",
       "version": 3
      },
      "file_extension": ".py",
      "mimetype": "text/x-python",
      "name": "python",
      "nbconvert_exporter": "python",
      "pygments_lexer": "ipython3",
      "version": "3.10.4"
     }
    },
    "nbformat": 4,
    "nbformat_minor": 4
   }
   