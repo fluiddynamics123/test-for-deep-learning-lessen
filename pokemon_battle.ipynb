{
  "cells": [
    {
      "cell_type": "code",
      "execution_count": 1,
      "metadata": {
        "id": "nQjvAaTaI8dx"
      },
      "outputs": [],
      "source": [
        "import random"
      ]
    },
    {
      "cell_type": "code",
      "execution_count": 3,
      "metadata": {
        "id": "Oj0y8JadEg_2"
      },
      "outputs": [],
      "source": [
        "def call_name_power(a):\n",
        "  print(a)\n",
        "  if a == 0:\n",
        "    type = \"fire\"\n",
        "    HP = 150\n",
        "    SPEAD = 120\n",
        "  elif a == 1:\n",
        "    type = \"water\"\n",
        "    HP = 130\n",
        "    SPEAD = 130\n",
        "  else:\n",
        "    type = \"leaf\"\n",
        "    HP = 180\n",
        "    SPEAD = 80\n",
        "  return type,HP,SPEAD"
      ]
    },
    {
      "cell_type": "code",
      "execution_count": 8,
      "metadata": {
        "id": "sCn3Jjf6QQrV"
      },
      "outputs": [],
      "source": [
        "def call_relation(self,opp):\n",
        "  if self == \"leaf\":\n",
        "    if opp == \"fire\":\n",
        "      omega_s = 0.8\n",
        "      omega_opp = 1.2\n",
        "    elif opp == \"water\":\n",
        "      omega_s = 1.2\n",
        "      omega_opp = 0.8\n",
        "    else:\n",
        "      pass\n",
        "  elif self == \"water\":\n",
        "    if opp == \"fire\":\n",
        "      omega_s = 0.8\n",
        "      omega_opp = 1.2\n",
        "    elif opp == \"leaf\":\n",
        "      omega_s = 1.2\n",
        "      omega_opp = 0.8\n",
        "    else:\n",
        "      pass\n",
        "  else:\n",
        "    if opp == \"water\":\n",
        "      omega_s = 1.2\n",
        "      omega_opp = 0.8\n",
        "    elif opp == \"leaf\":\n",
        "      omega_s = 0.8\n",
        "      omega_opp = 1.2 \n",
        "    else:\n",
        "      pass\n",
        "  return omega_s,omega_opp   "
      ]
    },
    {
      "cell_type": "code",
      "execution_count": 2,
      "metadata": {
        "colab": {
          "base_uri": "https://localhost:8080/"
        },
        "id": "bsk8TCy2Cj6n",
        "outputId": "61658bda-109d-478c-df8c-51de3aafc90d"
      },
      "outputs": [
        {
          "name": "stdout",
          "output_type": "stream",
          "text": [
            "which pokemon do you use? 0:fire, 1:water, 2;leaf2\n",
            "you chose2\n"
          ]
        }
      ],
      "source": [
        "while True:\n",
        "  which_pokemon = int(input(\"which pokemon do you use? 0:fire, 1:water, 2;leaf\"))\n",
        "  if which_pokemon <= 2:\n",
        "    break\n",
        "  else:\n",
        "    print(\"Chose the number from 0 to 2!!\")\n",
        "print(\"you chose\" + str(which_pokemon))"
      ]
    },
    {
      "cell_type": "code",
      "execution_count": 14,
      "metadata": {
        "colab": {
          "base_uri": "https://localhost:8080/"
        },
        "id": "QE6-q-rcJ5L1",
        "outputId": "c51fade5-4173-4835-caa8-7d5088d1b41d"
      },
      "outputs": [
        {
          "name": "stdout",
          "output_type": "stream",
          "text": [
            "2\n",
            "type is ...leaf\n",
            "HP is ...180\n",
            "SPEED is ...80\n"
          ]
        }
      ],
      "source": [
        "type_self,HP_self,spead_self = call_name_power(which_pokemon)\n",
        "print (\"type is ...\" + type_self)\n",
        "print (\"HP is ...\" + str(HP_self))\n",
        "print (\"SPEED is ...\" + str(spead_self))"
      ]
    },
    {
      "cell_type": "code",
      "execution_count": 13,
      "metadata": {
        "colab": {
          "base_uri": "https://localhost:8080/"
        },
        "id": "3ntkfvNbH6HB",
        "outputId": "a9e94ecb-69c7-43cd-ff2d-cfe909ce0c96"
      },
      "outputs": [
        {
          "name": "stdout",
          "output_type": "stream",
          "text": [
            "1\n",
            "type is ...water\n",
            "HP is ...130\n",
            "SPEED is ...130\n"
          ]
        }
      ],
      "source": [
        "opponent_pokemon = random.randint(0,2)\n",
        "type_opp,HP_opp,spead_opp = call_name_power(opponent_pokemon)\n",
        "print (\"type is ...\" + type_opp)\n",
        "print (\"HP is ...\" + str(HP_opp))\n",
        "print (\"SPEED is ...\" + str(spead_opp))"
      ]
    },
    {
      "cell_type": "code",
      "execution_count": 15,
      "metadata": {
        "colab": {
          "base_uri": "https://localhost:8080/"
        },
        "id": "NC_DfNJSNGmY",
        "outputId": "e588eeb1-b1fb-421f-82d2-dddbe9c075f0"
      },
      "outputs": [
        {
          "name": "stdout",
          "output_type": "stream",
          "text": [
            "Battle start\n"
          ]
        }
      ],
      "source": [
        "print(\"Battle start\")\n",
        "omega_self = 1.0\n",
        "omega_opp = 1.0\n",
        "if type_self != type_opp:\n",
        "  omega_self,omega_opp = call_relation(type_self,type_opp) #相性による重み係数の呼び出し"
      ]
    },
    {
      "cell_type": "code",
      "execution_count": 16,
      "metadata": {
        "colab": {
          "base_uri": "https://localhost:8080/"
        },
        "id": "l3zN8EHUYs6R",
        "outputId": "a20d2855-0712-4157-8d5f-6e909a5b4313"
      },
      "outputs": [
        {
          "name": "stdout",
          "output_type": "stream",
          "text": [
            "[180, 130]\n"
          ]
        }
      ],
      "source": [
        "print([HP_self,HP_opp])"
      ]
    },
    {
      "cell_type": "code",
      "execution_count": 17,
      "metadata": {
        "colab": {
          "base_uri": "https://localhost:8080/"
        },
        "id": "TzRHVxR5XzVG",
        "outputId": "34e80c60-f51f-4231-e5a7-8f4d107b1841"
      },
      "outputs": [
        {
          "name": "stdout",
          "output_type": "stream",
          "text": [
            "your HP is...160.0\n",
            "opponent HP is...100.0\n",
            "your HP is...140.0\n",
            "opponent HP is...70.0\n",
            "your HP is...120.0\n",
            "opponent HP is...40.0\n",
            "your HP is...100.0\n",
            "opponent HP is...10.0\n",
            "your HP is...80.0\n",
            "opponent HP is...-20.0\n"
          ]
        }
      ],
      "source": [
        "while HP_self > 0 and HP_opp > 0:\n",
        "  if spead_self >= spead_opp:\n",
        "    print(\"Your Attack\")\n",
        "    HP_opp -= 25.0*omega_self\n",
        "    print(\"opponent HP is...\" + str(HP_opp))\n",
        "    HP_self -= 25.0*omega_opp\n",
        "    print(\"your HP is...\" + str(HP_self))\n",
        "  elif spead_self < spead_opp:\n",
        "    print(\"Opponent's Attack\")\n",
        "    HP_self -= 25.0*omega_opp\n",
        "    print(\"your HP is...\" + str(HP_self))\n",
        "    HP_opp -= 25.0*omega_self\n",
        "    print(\"opponent HP is...\" + str(HP_opp))\n",
        "  else:\n",
        "    pass"
      ]
    },
    {
      "cell_type": "markdown",
      "metadata": {
        "id": "bYuV0aYSG4tP"
      },
      "source": []
    }
  ],
  "metadata": {
    "colab": {
      "collapsed_sections": [],
      "name": "Untitled1.ipynb",
      "provenance": []
    },
    "kernelspec": {
      "display_name": "Python 3",
      "name": "python3"
    },
    "language_info": {
      "name": "python"
    }
  },
  "nbformat": 4,
  "nbformat_minor": 0
}
