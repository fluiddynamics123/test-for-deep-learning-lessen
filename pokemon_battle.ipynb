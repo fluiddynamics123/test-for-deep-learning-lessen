{
  "cells": [
    {
      "cell_type": "code",
      "execution_count": 341,
      "metadata": {
        "id": "nQjvAaTaI8dx"
      },
      "outputs": [],
      "source": [
        "import random"
      ]
    },
    {
      "cell_type": "code",
      "execution_count": 342,
      "metadata": {
        "id": "Oj0y8JadEg_2"
      },
      "outputs": [],
      "source": [
        "def call_name_power(a):\n",
        "  print(a)\n",
        "  if a == 0:\n",
        "    type = \"fire\"\n",
        "    HP = 150\n",
        "    SPEAD = 120\n",
        "  elif a == 1:\n",
        "    type = \"water\"\n",
        "    HP = 130\n",
        "    SPEAD = 130\n",
        "  else:\n",
        "    type = \"leaf\"\n",
        "    HP = 180\n",
        "    SPEAD = 80\n",
        "  return type,HP,SPEAD"
      ]
    },
    {
      "cell_type": "code",
      "execution_count": 343,
      "metadata": {
        "id": "sCn3Jjf6QQrV"
      },
      "outputs": [],
      "source": [
        "def call_relation(self,opp):\n",
        "  if self == \"leaf\":\n",
        "    if opp == \"fire\":\n",
        "      omega_s = 0.8\n",
        "      omega_opp = 1.2\n",
        "    elif opp == \"water\":\n",
        "      omega_s = 1.2\n",
        "      omega_opp = 0.8\n",
        "    else:\n",
        "      pass\n",
        "  elif self == \"water\":\n",
        "    if opp == \"fire\":\n",
        "      omega_s = 0.8\n",
        "      omega_opp = 1.2\n",
        "    elif opp == \"leaf\":\n",
        "      omega_s = 1.2\n",
        "      omega_opp = 0.8\n",
        "    else:\n",
        "      pass\n",
        "  else:\n",
        "    if opp == \"water\":\n",
        "      omega_s = 1.2\n",
        "      omega_opp = 0.8\n",
        "    elif opp == \"leaf\":\n",
        "      omega_s = 0.8\n",
        "      omega_opp = 1.2 \n",
        "    else:\n",
        "      pass\n",
        "  return omega_s,omega_opp   "
      ]
    },
    {
      "cell_type": "code",
      "execution_count": 344,
      "metadata": {
        "colab": {
          "base_uri": "https://localhost:8080/"
        },
        "id": "bsk8TCy2Cj6n",
        "outputId": "61658bda-109d-478c-df8c-51de3aafc90d"
      },
      "outputs": [
        {
          "name": "stdout",
          "output_type": "stream",
          "text": [
            "you chose0\n"
          ]
        }
      ],
      "source": [
        "while True:\n",
        "  which_pokemon = int(input(\"which pokemon do you use? 0:fire, 1:water, 2;leaf\"))\n",
        "  if which_pokemon <= 2:\n",
        "    break\n",
        "  else:\n",
        "    print(\"Chose the number from 0 to 2!!\")\n",
        "print(\"you chose\" + str(which_pokemon))"
      ]
    },
    {
      "cell_type": "code",
      "execution_count": 345,
      "metadata": {
        "colab": {
          "base_uri": "https://localhost:8080/"
        },
        "id": "QE6-q-rcJ5L1",
        "outputId": "c51fade5-4173-4835-caa8-7d5088d1b41d"
      },
      "outputs": [
        {
          "name": "stdout",
          "output_type": "stream",
          "text": [
            "0\n",
            "type is ...fire\n",
            "HP is ...150\n",
            "SPEED is ...120\n"
          ]
        }
      ],
      "source": [
        "type_self,HP_self,spead_self = call_name_power(which_pokemon)\n",
        "print (\"type is ...\" + type_self)\n",
        "print (\"HP is ...\" + str(HP_self))\n",
        "print (\"SPEED is ...\" + str(spead_self))"
      ]
    },
    {
      "cell_type": "code",
      "execution_count": 346,
      "metadata": {
        "colab": {
          "base_uri": "https://localhost:8080/"
        },
        "id": "3ntkfvNbH6HB",
        "outputId": "a9e94ecb-69c7-43cd-ff2d-cfe909ce0c96"
      },
      "outputs": [
        {
          "name": "stdout",
          "output_type": "stream",
          "text": [
            "2\n",
            "type is ...leaf\n",
            "HP is ...180\n",
            "SPEED is ...80\n"
          ]
        }
      ],
      "source": [
        "opponent_pokemon = random.randint(0,2)\n",
        "type_opp,HP_opp,spead_opp = call_name_power(opponent_pokemon)\n",
        "print (\"type is ...\" + type_opp)\n",
        "print (\"HP is ...\" + str(HP_opp))\n",
        "print (\"SPEED is ...\" + str(spead_opp))"
      ]
    },
    {
      "cell_type": "code",
      "execution_count": 347,
      "metadata": {
        "colab": {
          "base_uri": "https://localhost:8080/"
        },
        "id": "NC_DfNJSNGmY",
        "outputId": "e588eeb1-b1fb-421f-82d2-dddbe9c075f0"
      },
      "outputs": [
        {
          "name": "stdout",
          "output_type": "stream",
          "text": [
            "Battle start\n"
          ]
        }
      ],
      "source": [
        "print(\"Battle start\")\n",
        "omega_self = 1.0\n",
        "omega_opp = 1.0\n",
        "if type_self != type_opp:\n",
        "  omega_self,omega_opp = call_relation(type_self,type_opp) #相性による重み係数の呼び出し"
      ]
    },
    {
      "cell_type": "code",
      "execution_count": 348,
      "metadata": {},
      "outputs": [],
      "source": [
        "level_self = random.randint(1,50) #自分、相手のポケモンのレベルはランダムにしてます\n",
        "level_opp = random.randint(1,50)"
      ]
    },
    {
      "cell_type": "code",
      "execution_count": 349,
      "metadata": {},
      "outputs": [],
      "source": [
        "import math\n",
        "\n",
        "HP_self = int(math.sqrt(level_self)*HP_self) #HPは平方根を乗する\n",
        "spead_self = int(math.log(math.e + level_self -1)*spead_self) #speedはln(e + level -1)を乗する\n",
        "HP_opp = int(math.sqrt(level_opp)*HP_opp)\n",
        "spead_opp = int(math.log(math.e + level_opp -1)*spead_opp)"
      ]
    },
    {
      "cell_type": "code",
      "execution_count": 350,
      "metadata": {
        "colab": {
          "base_uri": "https://localhost:8080/"
        },
        "id": "l3zN8EHUYs6R",
        "outputId": "a20d2855-0712-4157-8d5f-6e909a5b4313"
      },
      "outputs": [
        {
          "name": "stdout",
          "output_type": "stream",
          "text": [
            "Your pokemon's type / level / HP / speed...\n",
            "      fire / 14 / 561 / 330\n",
            "opponent pokemon's type / level / HP / speed...\n",
            "      leaf / 11 / 596 / 203\n"
          ]
        }
      ],
      "source": [
        "print(\"Your pokemon's type / level / HP / speed...\")\n",
        "print(\"      \" + type_self + \" / \" + str(level_self) + \" / \" + str(HP_self) + \" / \" + str(spead_self) )\n",
        "print(\"opponent pokemon's type / level / HP / speed...\")\n",
        "print(\"      \" + type_opp + \" / \" + str(level_opp) + \" / \" + str(HP_opp) + \" / \" + str(spead_opp) )"
      ]
    },
    {
      "cell_type": "code",
      "execution_count": 351,
      "metadata": {},
      "outputs": [],
      "source": [
        "# 技の種類\n",
        "moves = [\n",
        "  {\n",
        "    'name': 'light Attack',\n",
        "    'power': 40,\n",
        "    'accuracy': 100\n",
        "  },\n",
        "  {\n",
        "    'name': 'Middle Attack',\n",
        "    'power': 60,\n",
        "    'accuracy': 80\n",
        "  },\n",
        "  {\n",
        "    'name': 'Heavy Attack',\n",
        "    'power': 80,\n",
        "    'accuracy': 60\n",
        "  }\n",
        "]"
      ]
    },
    {
      "cell_type": "code",
      "execution_count": 352,
      "metadata": {},
      "outputs": [],
      "source": [
        "# 技の選択\n",
        "def select_move():\n",
        "  while True:\n",
        "    move_idx = int(input('select move: 0:light, 1:middle, 2:heavy'))\n",
        "    if move_idx == 0 or move_idx == 1 or move_idx == 2:\n",
        "      print('selected: ' + moves[move_idx]['name'])\n",
        "      return moves[move_idx]\n",
        "    else:\n",
        "      print(\"Chose the number from 0 to 2!!\")"
      ]
    },
    {
      "cell_type": "code",
      "execution_count": 353,
      "metadata": {},
      "outputs": [],
      "source": [
        "# 命中判定(命中したかどうかのフラグを返す)\n",
        "def calculate_accuracy(move):\n",
        "  accuracy = move['accuracy']\n",
        "  rand = random.randint(0, 100)\n",
        "  if accuracy >= rand:\n",
        "    print('Hit!!')\n",
        "    return True\n",
        "  else:\n",
        "    print('Miss...')\n",
        "    return False"
      ]
    },
    {
      "cell_type": "code",
      "execution_count": 354,
      "metadata": {},
      "outputs": [],
      "source": [
        "# 攻撃によるHP計算\n",
        "def calculate_hp(move, HP_defender, omega_attacker):\n",
        "  power = move['power']\n",
        "  HP_defender -= power*omega_attacker\n",
        "  return HP_defender"
      ]
    },
    {
      "cell_type": "code",
      "execution_count": 355,
      "metadata": {},
      "outputs": [],
      "source": [
        "# 攻撃(引数で攻撃者がplayerかどうか指定)\n",
        "def attack(is_player_attack):\n",
        "  if(is_player_attack):\n",
        "    HP_defender = HP_opp\n",
        "    omega_attacker = omega_self\n",
        "    move = select_move()\n",
        "  else:\n",
        "    HP_defender = HP_self\n",
        "    omega_attacker = omega_opp\n",
        "    move = moves[random.randint(0, 2)]\n",
        "\n",
        "  is_hit = calculate_accuracy(move)\n",
        "  # 命中した場合攻撃を実行\n",
        "  if is_hit:\n",
        "    HP_defender = calculate_hp(move, HP_defender, omega_attacker)\n",
        "\n",
        "  return HP_defender"
      ]
    },
    {
      "cell_type": "code",
      "execution_count": 356,
      "metadata": {
        "colab": {
          "base_uri": "https://localhost:8080/"
        },
        "id": "TzRHVxR5XzVG",
        "outputId": "34e80c60-f51f-4231-e5a7-8f4d107b1841"
      },
      "outputs": [
        {
          "name": "stdout",
          "output_type": "stream",
          "text": [
            "Your Attack\n",
            "selected: Middle Attack\n",
            "Hit!!\n",
            "opponent HP is...548.0\n",
            "\n",
            "Opponent's Attack\n",
            "Hit!!\n",
            "your HP is...489.0\n",
            "\n",
            "Your Attack\n",
            "selected: Heavy Attack\n",
            "Hit!!\n",
            "opponent HP is...484.0\n",
            "\n",
            "Opponent's Attack\n",
            "Hit!!\n",
            "your HP is...441.0\n",
            "\n",
            "Your Attack\n",
            "selected: light Attack\n",
            "Hit!!\n",
            "opponent HP is...452.0\n",
            "\n",
            "Opponent's Attack\n",
            "Miss...\n",
            "your HP is...441.0\n",
            "\n",
            "Your Attack\n",
            "selected: Heavy Attack\n",
            "Miss...\n",
            "opponent HP is...452.0\n",
            "\n",
            "Opponent's Attack\n",
            "Hit!!\n",
            "your HP is...369.0\n",
            "\n",
            "Your Attack\n",
            "selected: Middle Attack\n",
            "Hit!!\n",
            "opponent HP is...404.0\n",
            "\n",
            "Opponent's Attack\n",
            "Hit!!\n",
            "your HP is...297.0\n",
            "\n",
            "Your Attack\n",
            "selected: light Attack\n",
            "Hit!!\n",
            "opponent HP is...372.0\n",
            "\n",
            "Opponent's Attack\n",
            "Hit!!\n",
            "your HP is...225.0\n",
            "\n",
            "Your Attack\n",
            "selected: Heavy Attack\n",
            "Miss...\n",
            "opponent HP is...372.0\n",
            "\n",
            "Opponent's Attack\n",
            "Miss...\n",
            "your HP is...225.0\n",
            "\n",
            "Your Attack\n",
            "selected: Middle Attack\n",
            "Miss...\n",
            "opponent HP is...372.0\n",
            "\n",
            "Opponent's Attack\n",
            "Hit!!\n",
            "your HP is...177.0\n",
            "\n",
            "Your Attack\n",
            "selected: light Attack\n",
            "Hit!!\n",
            "opponent HP is...340.0\n",
            "\n",
            "Opponent's Attack\n",
            "Miss...\n",
            "your HP is...177.0\n",
            "\n",
            "Your Attack\n",
            "selected: Heavy Attack\n",
            "Hit!!\n",
            "opponent HP is...276.0\n",
            "\n",
            "Opponent's Attack\n",
            "Hit!!\n",
            "your HP is...129.0\n",
            "\n",
            "Your Attack\n",
            "selected: Heavy Attack\n",
            "Hit!!\n",
            "opponent HP is...212.0\n",
            "\n",
            "Opponent's Attack\n",
            "Hit!!\n",
            "your HP is...81.0\n",
            "\n",
            "Your Attack\n",
            "selected: Middle Attack\n",
            "Miss...\n",
            "opponent HP is...212.0\n",
            "\n",
            "Opponent's Attack\n",
            "Hit!!\n",
            "your HP is...-15.0\n",
            "\n",
            "You lose...\n"
          ]
        }
      ],
      "source": [
        "while HP_self > 0 and HP_opp > 0:\n",
        "  if spead_self >= spead_opp:\n",
        "    print(\"Your Attack\")\n",
        "    HP_opp = attack(is_player_attack = True)\n",
        "    print(\"opponent HP is...\" + str(HP_opp) + '\\n')\n",
        "\n",
        "    print(\"Opponent's Attack\")\n",
        "    HP_self = attack(is_player_attack = False)\n",
        "    print(\"your HP is...\" + str(HP_self) + '\\n')\n",
        "\n",
        "  elif spead_self < spead_opp:\n",
        "    print(\"Opponent's Attack\")\n",
        "    HP_self = attack(is_player_attack = False)\n",
        "    print(\"your HP is...\" + str(HP_self) + '\\n')\n",
        "\n",
        "    print(\"Your Attack\")\n",
        "    HP_opp = attack(is_player_attack = True)\n",
        "    print(\"opponent HP is...\" + str(HP_opp) + '\\n')\n",
        "  else:\n",
        "    pass\n",
        "\n",
        "# 戦闘終了時のメッセージ\n",
        "if(HP_self > 0):\n",
        "  print('You win!!')\n",
        "elif(HP_opp > 0):\n",
        "  print('You lose...')"
      ]
    },
    {
      "cell_type": "markdown",
      "metadata": {
        "id": "bYuV0aYSG4tP"
      },
      "source": []
    }
  ],
  "metadata": {
    "colab": {
      "collapsed_sections": [],
      "name": "Untitled1.ipynb",
      "provenance": []
    },
    "kernelspec": {
      "display_name": "Python 3.10.6 64-bit",
      "language": "python",
      "name": "python3"
    },
    "language_info": {
      "codemirror_mode": {
        "name": "ipython",
        "version": 3
      },
      "file_extension": ".py",
      "mimetype": "text/x-python",
      "name": "python",
      "nbconvert_exporter": "python",
      "pygments_lexer": "ipython3",
      "version": "3.10.6"
    },
    "vscode": {
      "interpreter": {
        "hash": "b0fa6594d8f4cbf19f97940f81e996739fb7646882a419484c72d19e05852a7e"
      }
    }
  },
  "nbformat": 4,
  "nbformat_minor": 4
}
